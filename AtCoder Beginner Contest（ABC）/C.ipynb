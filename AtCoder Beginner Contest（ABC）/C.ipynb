{
 "cells": [
  {
   "cell_type": "markdown",
   "metadata": {},
   "source": [
    "# 142"
   ]
  },
  {
   "cell_type": "code",
   "execution_count": 2,
   "metadata": {},
   "outputs": [
    {
     "name": "stdout",
     "output_type": "stream",
     "text": [
      "8\n",
      "8 2 7 3 4 5 6 1\n",
      "8 2 4 5 6 7 3 1\n"
     ]
    }
   ],
   "source": [
    "N=int(input())\n",
    "A=[int(i) for i in input().split()]\n",
    "lists=[None]*N\n",
    "\n",
    "for i in range(N):\n",
    "    lists[A[i]-1]=i+1\n",
    "print(\" \".join(map(str,lists)))"
   ]
  },
  {
   "cell_type": "markdown",
   "metadata": {},
   "source": [
    "こっちの方が早い"
   ]
  },
  {
   "cell_type": "code",
   "execution_count": 2,
   "metadata": {},
   "outputs": [
    {
     "name": "stdout",
     "output_type": "stream",
     "text": [
      "3\n",
      "2 3 1\n",
      "3 1 2\n"
     ]
    }
   ],
   "source": [
    "N = int(input())\n",
    "A = [int(x) for x in input().split()]\n",
    "\n",
    "answer = [None] * N\n",
    "for i,a in enumerate(A):\n",
    "    answer[a-1] = i+1\n",
    "\n",
    "print(*answer)"
   ]
  },
  {
   "cell_type": "markdown",
   "metadata": {},
   "source": [
    "# 141"
   ]
  },
  {
   "cell_type": "code",
   "execution_count": 22,
   "metadata": {
    "scrolled": true
   },
   "outputs": [
    {
     "name": "stdout",
     "output_type": "stream",
     "text": [
      "6 3 4\n",
      "3\n",
      "1\n",
      "3\n",
      "2\n",
      "No\n",
      "No\n",
      "Yes\n",
      "No\n",
      "No\n",
      "No\n"
     ]
    }
   ],
   "source": [
    "import numpy as np\n",
    "N, K, Q = map(int, input().split())\n",
    "score = np.array([K]*N)\n",
    "\n",
    "for _ in range(Q):\n",
    "    n = int(input())\n",
    "    score[n-1] = score[n-1] + 1\n",
    "\n",
    "score=score-Q\n",
    "\n",
    "for i in score:\n",
    "    print(\"Yes\" if i>0 else \"No\")"
   ]
  },
  {
   "cell_type": "markdown",
   "metadata": {},
   "source": [
    "# 140"
   ]
  },
  {
   "cell_type": "code",
   "execution_count": 13,
   "metadata": {},
   "outputs": [
    {
     "name": "stdout",
     "output_type": "stream",
     "text": [
      "2\n",
      "3\n",
      "6\n"
     ]
    }
   ],
   "source": [
    "N = int(input())\n",
    "B = list(map(int,input().split()))\n",
    "\n",
    "sums=0\n",
    "cnt=N-2\n",
    "\n",
    "for i in range(cnt):\n",
    "    sums+=min(B[i],B[i+1])\n",
    "print(sums+B[0]+B[N-2])"
   ]
  },
  {
   "cell_type": "markdown",
   "metadata": {},
   "source": [
    "# 139"
   ]
  },
  {
   "cell_type": "code",
   "execution_count": null,
   "metadata": {},
   "outputs": [],
   "source": []
  },
  {
   "cell_type": "code",
   "execution_count": null,
   "metadata": {},
   "outputs": [],
   "source": []
  },
  {
   "cell_type": "code",
   "execution_count": null,
   "metadata": {},
   "outputs": [],
   "source": []
  }
 ],
 "metadata": {
  "kernelspec": {
   "display_name": "Python 3",
   "language": "python",
   "name": "python3"
  },
  "language_info": {
   "codemirror_mode": {
    "name": "ipython",
    "version": 3
   },
   "file_extension": ".py",
   "mimetype": "text/x-python",
   "name": "python",
   "nbconvert_exporter": "python",
   "pygments_lexer": "ipython3",
   "version": "3.6.5"
  }
 },
 "nbformat": 4,
 "nbformat_minor": 2
}
