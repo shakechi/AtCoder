{
 "cells": [
  {
   "cell_type": "markdown",
   "metadata": {},
   "source": [
    "# A"
   ]
  },
  {
   "cell_type": "code",
   "execution_count": 3,
   "metadata": {},
   "outputs": [
    {
     "name": "stdout",
     "output_type": "stream",
     "text": [
      "4\n",
      "4\n",
      "4\n",
      "16\n"
     ]
    }
   ],
   "source": [
    "a = int(input())\n",
    "b = int(input())\n",
    "h = int(input())\n",
    "\n",
    "print(int(((a+b)*h)/2))"
   ]
  },
  {
   "cell_type": "markdown",
   "metadata": {},
   "source": [
    "# B"
   ]
  },
  {
   "cell_type": "markdown",
   "metadata": {},
   "source": [
    "## queueの確認"
   ]
  },
  {
   "cell_type": "code",
   "execution_count": 12,
   "metadata": {},
   "outputs": [
    {
     "name": "stdout",
     "output_type": "stream",
     "text": [
      "2\n",
      "deque([])\n"
     ]
    }
   ],
   "source": [
    "from collections import deque\n",
    "queue=deque([\"A\",\"B\"])\n",
    "queue.popleft()\n",
    "queue.popleft()\n",
    "print(queue)"
   ]
  },
  {
   "cell_type": "code",
   "execution_count": 25,
   "metadata": {},
   "outputs": [
    {
     "name": "stdout",
     "output_type": "stream",
     "text": [
      "abcb\n",
      "aacb\n",
      "bccc\n",
      "C\n"
     ]
    }
   ],
   "source": [
    "from collections import deque\n",
    "A = deque(list(map(str,input())))\n",
    "B = deque(list(map(str,input())))\n",
    "C = deque(list(map(str,input())))\n",
    "\n",
    "def turn(play):\n",
    "    answer = \"\"\n",
    "    if play==\"a\":\n",
    "        if len(A) == 0: return \"A\"\n",
    "        answer = turn(A.popleft())\n",
    "    elif play==\"b\":\n",
    "        if len(B) == 0: return \"B\"\n",
    "        answer = turn(B.popleft())\n",
    "    else:\n",
    "        if len(C) == 0: return \"C\"\n",
    "        answer = turn(C.popleft())\n",
    "    return answer\n",
    "print(turn(A.popleft()))"
   ]
  },
  {
   "cell_type": "code",
   "execution_count": 26,
   "metadata": {},
   "outputs": [
    {
     "name": "stdout",
     "output_type": "stream",
     "text": [
      "abcb\n",
      "aacb\n",
      "bccc\n",
      "C\n"
     ]
    }
   ],
   "source": [
    "from collections import deque\n",
    "A = deque(list(map(str,input())))\n",
    "B = deque(list(map(str,input())))\n",
    "C = deque(list(map(str,input())))\n",
    "\n",
    "def turn(play):\n",
    "    if play==\"a\":\n",
    "        if len(A) == 0: return \"A\"\n",
    "        play = A.popleft()\n",
    "    elif play==\"b\":\n",
    "        if len(B) == 0: return \"B\"\n",
    "        play = B.popleft()\n",
    "    else:\n",
    "        if len(C) == 0: return \"C\"\n",
    "        play = C.popleft()\n",
    "    return turn(play)\n",
    "print(turn(A.popleft()))"
   ]
  },
  {
   "cell_type": "code",
   "execution_count": null,
   "metadata": {},
   "outputs": [],
   "source": []
  },
  {
   "cell_type": "code",
   "execution_count": null,
   "metadata": {},
   "outputs": [],
   "source": []
  },
  {
   "cell_type": "code",
   "execution_count": null,
   "metadata": {},
   "outputs": [],
   "source": []
  },
  {
   "cell_type": "code",
   "execution_count": null,
   "metadata": {},
   "outputs": [],
   "source": []
  }
 ],
 "metadata": {
  "kernelspec": {
   "display_name": "Python 3",
   "language": "python",
   "name": "python3"
  },
  "language_info": {
   "codemirror_mode": {
    "name": "ipython",
    "version": 3
   },
   "file_extension": ".py",
   "mimetype": "text/x-python",
   "name": "python",
   "nbconvert_exporter": "python",
   "pygments_lexer": "ipython3",
   "version": "3.6.5"
  }
 },
 "nbformat": 4,
 "nbformat_minor": 2
}
